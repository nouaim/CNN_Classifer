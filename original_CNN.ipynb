{
 "cells": [
  {
   "cell_type": "code",
   "execution_count": 1,
   "metadata": {},
   "outputs": [
    {
     "name": "stderr",
     "output_type": "stream",
     "text": [
      "Using TensorFlow backend.\n"
     ]
    }
   ],
   "source": [
    "import os\n",
    "import numpy as np\n",
    "from keras.models import Sequential\n",
    "from keras.layers import Activation, Dropout, Flatten, Dense\n",
    "from keras.preprocessing.image import ImageDataGenerator\n",
    "from keras.layers import Conv2D, MaxPooling2D, ZeroPadding2D\n",
    "from keras import optimizers"
   ]
  },
  {
   "cell_type": "code",
   "execution_count": 2,
   "metadata": {},
   "outputs": [],
   "source": [
    "# dimensions of our images.\n",
    "img_width, img_height = 150, 150\n",
    "\n",
    "train_data_dir = 'data/train'\n",
    "validation_data_dir = 'data/validation'"
   ]
  },
  {
   "cell_type": "code",
   "execution_count": 3,
   "metadata": {},
   "outputs": [
    {
     "name": "stdout",
     "output_type": "stream",
     "text": [
      "Found 396 images belonging to 2 classes.\n",
      "Found 363 images belonging to 1 classes.\n"
     ]
    }
   ],
   "source": [
    "# used to rescale the pixel values from [0, 255] to [0, 1] interval\n",
    "datagen = ImageDataGenerator(rescale=1./255)\n",
    "\n",
    "# automagically retrieve images and their classes for train and validation sets\n",
    "train_generator = datagen.flow_from_directory(\n",
    "        train_data_dir,\n",
    "        target_size=(img_width, img_height),\n",
    "        batch_size=16,\n",
    "        class_mode='binary')\n",
    "\n",
    "validation_generator = datagen.flow_from_directory(\n",
    "        validation_data_dir,\n",
    "        target_size=(img_width, img_height),\n",
    "        batch_size=32,\n",
    "        class_mode='binary')"
   ]
  },
  {
   "cell_type": "code",
   "execution_count": 4,
   "metadata": {},
   "outputs": [
    {
     "name": "stderr",
     "output_type": "stream",
     "text": [
      "WARNING: Logging before flag parsing goes to stderr.\n",
      "W0422 16:42:12.668217 139958093608768 deprecation_wrapper.py:119] From /usr/local/lib/python3.6/dist-packages/keras/backend/tensorflow_backend.py:74: The name tf.get_default_graph is deprecated. Please use tf.compat.v1.get_default_graph instead.\n",
      "\n",
      "W0422 16:42:12.693923 139958093608768 deprecation_wrapper.py:119] From /usr/local/lib/python3.6/dist-packages/keras/backend/tensorflow_backend.py:517: The name tf.placeholder is deprecated. Please use tf.compat.v1.placeholder instead.\n",
      "\n",
      "W0422 16:42:12.696479 139958093608768 deprecation_wrapper.py:119] From /usr/local/lib/python3.6/dist-packages/keras/backend/tensorflow_backend.py:4138: The name tf.random_uniform is deprecated. Please use tf.random.uniform instead.\n",
      "\n",
      "W0422 16:42:12.715421 139958093608768 deprecation_wrapper.py:119] From /usr/local/lib/python3.6/dist-packages/keras/backend/tensorflow_backend.py:3976: The name tf.nn.max_pool is deprecated. Please use tf.nn.max_pool2d instead.\n",
      "\n",
      "W0422 16:42:12.757771 139958093608768 deprecation_wrapper.py:119] From /usr/local/lib/python3.6/dist-packages/keras/backend/tensorflow_backend.py:133: The name tf.placeholder_with_default is deprecated. Please use tf.compat.v1.placeholder_with_default instead.\n",
      "\n",
      "W0422 16:42:12.763208 139958093608768 deprecation.py:506] From /usr/local/lib/python3.6/dist-packages/keras/backend/tensorflow_backend.py:3445: calling dropout (from tensorflow.python.ops.nn_ops) with keep_prob is deprecated and will be removed in a future version.\n",
      "Instructions for updating:\n",
      "Please use `rate` instead of `keep_prob`. Rate should be set to `rate = 1 - keep_prob`.\n"
     ]
    }
   ],
   "source": [
    "model = Sequential()\n",
    "model.add(Conv2D(32, (3, 3), input_shape=(img_width, img_height,3)))\n",
    "model.add(Activation('relu'))\n",
    "model.add(MaxPooling2D(pool_size=(2, 2)))\n",
    "\n",
    "model.add(Conv2D(32, (3, 3), activation='relu'))\n",
    "model.add(MaxPooling2D(pool_size=(2, 2)))\n",
    "\n",
    "model.add(Conv2D(64, (3, 3) , activation='relu'))\n",
    "model.add(MaxPooling2D(pool_size=(2, 2)))\n",
    "\n",
    "model.add(Flatten())\n",
    "model.add(Dense(64))\n",
    "model.add(Activation('relu'))\n",
    "model.add(Dropout(0.5))\n",
    "model.add(Dense(1))\n",
    "model.add(Activation('sigmoid'))"
   ]
  },
  {
   "cell_type": "code",
   "execution_count": 5,
   "metadata": {},
   "outputs": [
    {
     "name": "stderr",
     "output_type": "stream",
     "text": [
      "W0422 16:42:16.665945 139958093608768 deprecation_wrapper.py:119] From /usr/local/lib/python3.6/dist-packages/keras/optimizers.py:790: The name tf.train.Optimizer is deprecated. Please use tf.compat.v1.train.Optimizer instead.\n",
      "\n",
      "W0422 16:42:16.681777 139958093608768 deprecation_wrapper.py:119] From /usr/local/lib/python3.6/dist-packages/keras/backend/tensorflow_backend.py:3376: The name tf.log is deprecated. Please use tf.math.log instead.\n",
      "\n",
      "W0422 16:42:16.684710 139958093608768 deprecation_wrapper.py:119] From /usr/local/lib/python3.6/dist-packages/keras/backend/tensorflow_backend.py:3378: The name tf.nn.sigmoid_cross_entropy_with_logits is deprecated. Please use tf.nn.sigmoid_cross_entropy_with_logits instead.\n",
      "\n"
     ]
    }
   ],
   "source": [
    "model.compile(loss='binary_crossentropy',\n",
    "              optimizer='rmsprop',\n",
    "              metrics=['accuracy'])"
   ]
  },
  {
   "cell_type": "code",
   "execution_count": 6,
   "metadata": {},
   "outputs": [],
   "source": [
    "nb_epoch = 60\n",
    "nb_train_samples = 2048\n",
    "nb_validation_samples = 832"
   ]
  },
  {
   "cell_type": "code",
   "execution_count": 7,
   "metadata": {},
   "outputs": [
    {
     "name": "stderr",
     "output_type": "stream",
     "text": [
      "/home/nouaim/venv/lib/python3.6/site-packages/ipykernel_launcher.py:6: UserWarning: The semantics of the Keras 2 argument `steps_per_epoch` is not the same as the Keras 1 argument `samples_per_epoch`. `steps_per_epoch` is the number of batches to draw from the generator at each epoch. Basically steps_per_epoch = samples_per_epoch/batch_size. Similarly `nb_val_samples`->`validation_steps` and `val_samples`->`steps` arguments have changed. Update your method calls accordingly.\n",
      "  \n",
      "/home/nouaim/venv/lib/python3.6/site-packages/ipykernel_launcher.py:6: UserWarning: Update your `fit_generator` call to the Keras 2 API: `fit_generator(<keras_pre..., validation_data=<keras_pre..., steps_per_epoch=128, epochs=60, validation_steps=832)`\n",
      "  \n"
     ]
    },
    {
     "name": "stdout",
     "output_type": "stream",
     "text": [
      "Epoch 1/60\n",
      "128/128 [==============================] - 93s 730ms/step - loss: 0.6755 - acc: 0.5915 - val_loss: 0.7232 - val_acc: 0.6475\n",
      "Epoch 2/60\n",
      "128/128 [==============================] - 58s 455ms/step - loss: 0.4487 - acc: 0.8187 - val_loss: 1.0528 - val_acc: 0.5451\n",
      "Epoch 3/60\n",
      "128/128 [==============================] - 58s 455ms/step - loss: 0.2082 - acc: 0.9167 - val_loss: 1.7180 - val_acc: 0.5373\n",
      "Epoch 4/60\n",
      "128/128 [==============================] - 58s 456ms/step - loss: 0.1099 - acc: 0.9699 - val_loss: 4.7981 - val_acc: 0.3414\n",
      "Epoch 5/60\n",
      "128/128 [==============================] - 59s 463ms/step - loss: 0.0560 - acc: 0.9816 - val_loss: 1.2367 - val_acc: 0.7907\n",
      "Epoch 6/60\n",
      "128/128 [==============================] - 58s 454ms/step - loss: 0.0444 - acc: 0.9847 - val_loss: 3.3904 - val_acc: 0.5432\n",
      "Epoch 7/60\n",
      "128/128 [==============================] - 58s 456ms/step - loss: 0.0304 - acc: 0.9910 - val_loss: 4.4140 - val_acc: 0.4490\n",
      "Epoch 8/60\n",
      "128/128 [==============================] - 58s 454ms/step - loss: 0.0331 - acc: 0.9937 - val_loss: 3.0780 - val_acc: 0.6500\n",
      "Epoch 9/60\n",
      "128/128 [==============================] - 58s 455ms/step - loss: 0.0182 - acc: 0.9932 - val_loss: 3.9296 - val_acc: 0.5317\n",
      "Epoch 10/60\n",
      "128/128 [==============================] - 59s 458ms/step - loss: 0.0224 - acc: 0.9941 - val_loss: 4.5991 - val_acc: 0.5206\n",
      "Epoch 11/60\n",
      "128/128 [==============================] - 59s 458ms/step - loss: 0.0212 - acc: 0.9951 - val_loss: 4.9022 - val_acc: 0.5179\n",
      "Epoch 12/60\n",
      "128/128 [==============================] - 59s 457ms/step - loss: 0.0079 - acc: 0.9976 - val_loss: 4.7720 - val_acc: 0.5646\n",
      "Epoch 13/60\n",
      "128/128 [==============================] - 59s 457ms/step - loss: 0.0261 - acc: 0.9956 - val_loss: 6.4306 - val_acc: 0.4325\n",
      "Epoch 14/60\n",
      "128/128 [==============================] - 59s 459ms/step - loss: 0.0227 - acc: 0.9946 - val_loss: 4.9211 - val_acc: 0.4904\n",
      "Epoch 15/60\n",
      "128/128 [==============================] - 59s 462ms/step - loss: 0.0166 - acc: 0.9971 - val_loss: 6.0470 - val_acc: 0.4955\n",
      "Epoch 16/60\n",
      "128/128 [==============================] - 58s 455ms/step - loss: 0.0197 - acc: 0.9946 - val_loss: 5.3114 - val_acc: 0.4929\n",
      "Epoch 17/60\n",
      "128/128 [==============================] - 58s 455ms/step - loss: 0.0056 - acc: 0.9976 - val_loss: 5.3564 - val_acc: 0.4544\n",
      "Epoch 18/60\n",
      "128/128 [==============================] - 58s 454ms/step - loss: 0.0362 - acc: 0.9951 - val_loss: 5.7320 - val_acc: 0.4684\n",
      "Epoch 19/60\n",
      "128/128 [==============================] - 58s 455ms/step - loss: 0.0098 - acc: 0.9990 - val_loss: 4.5944 - val_acc: 0.5760\n",
      "Epoch 20/60\n",
      "128/128 [==============================] - 58s 454ms/step - loss: 0.0415 - acc: 0.9951 - val_loss: 5.8565 - val_acc: 0.4926\n",
      "Epoch 21/60\n",
      "128/128 [==============================] - 58s 454ms/step - loss: 0.0069 - acc: 0.9990 - val_loss: 6.3653 - val_acc: 0.4989\n",
      "Epoch 22/60\n",
      "128/128 [==============================] - 58s 454ms/step - loss: 0.0075 - acc: 0.9980 - val_loss: 6.1328 - val_acc: 0.5153\n",
      "Epoch 23/60\n",
      "128/128 [==============================] - 58s 453ms/step - loss: 0.0125 - acc: 0.9966 - val_loss: 7.6332 - val_acc: 0.4409\n",
      "Epoch 24/60\n",
      "128/128 [==============================] - 58s 452ms/step - loss: 0.0031 - acc: 0.9985 - val_loss: 5.5177 - val_acc: 0.5262\n",
      "Epoch 25/60\n",
      "128/128 [==============================] - 58s 452ms/step - loss: 0.0123 - acc: 0.9985 - val_loss: 7.1357 - val_acc: 0.4630\n",
      "Epoch 26/60\n",
      "128/128 [==============================] - 58s 452ms/step - loss: 0.0252 - acc: 0.9937 - val_loss: 3.7420 - val_acc: 0.6972\n",
      "Epoch 27/60\n",
      "128/128 [==============================] - 58s 452ms/step - loss: 0.0222 - acc: 0.9961 - val_loss: 5.2056 - val_acc: 0.5675\n",
      "Epoch 28/60\n",
      "128/128 [==============================] - 59s 464ms/step - loss: 0.0152 - acc: 0.9961 - val_loss: 6.9871 - val_acc: 0.4903\n",
      "Epoch 29/60\n",
      "128/128 [==============================] - 60s 465ms/step - loss: 0.0038 - acc: 0.9990 - val_loss: 5.4664 - val_acc: 0.5013\n",
      "Epoch 30/60\n",
      "128/128 [==============================] - 59s 464ms/step - loss: 2.4557e-04 - acc: 1.0000 - val_loss: 5.8133 - val_acc: 0.5207\n",
      "Epoch 31/60\n",
      "128/128 [==============================] - 60s 466ms/step - loss: 0.0175 - acc: 0.9966 - val_loss: 6.4380 - val_acc: 0.4627\n",
      "Epoch 32/60\n",
      "128/128 [==============================] - 59s 459ms/step - loss: 0.0030 - acc: 0.9985 - val_loss: 6.6732 - val_acc: 0.4987\n",
      "Epoch 33/60\n",
      "128/128 [==============================] - 60s 466ms/step - loss: 0.0338 - acc: 0.9946 - val_loss: 5.0013 - val_acc: 0.5952\n",
      "Epoch 34/60\n",
      "128/128 [==============================] - 58s 455ms/step - loss: 0.0112 - acc: 0.9985 - val_loss: 7.0258 - val_acc: 0.4654\n",
      "Epoch 35/60\n",
      "128/128 [==============================] - 58s 456ms/step - loss: 0.0130 - acc: 0.9980 - val_loss: 7.5532 - val_acc: 0.4274\n",
      "Epoch 36/60\n",
      "128/128 [==============================] - 58s 455ms/step - loss: 0.0149 - acc: 0.9980 - val_loss: 7.4241 - val_acc: 0.4352\n",
      "Epoch 37/60\n",
      "128/128 [==============================] - 58s 456ms/step - loss: 0.0149 - acc: 0.9974 - val_loss: 6.5411 - val_acc: 0.5150\n",
      "Epoch 38/60\n",
      "128/128 [==============================] - 58s 455ms/step - loss: 1.1764e-04 - acc: 1.0000 - val_loss: 6.5027 - val_acc: 0.5072\n",
      "Epoch 39/60\n",
      "128/128 [==============================] - 58s 455ms/step - loss: 0.0066 - acc: 0.9990 - val_loss: 3.9523 - val_acc: 0.6914\n",
      "Epoch 40/60\n",
      "128/128 [==============================] - 58s 455ms/step - loss: 0.0034 - acc: 0.9990 - val_loss: 7.2083 - val_acc: 0.4735\n",
      "Epoch 41/60\n",
      "128/128 [==============================] - 58s 456ms/step - loss: 0.0056 - acc: 0.9985 - val_loss: 6.7641 - val_acc: 0.4933\n",
      "Epoch 42/60\n",
      "128/128 [==============================] - 58s 455ms/step - loss: 6.1935e-04 - acc: 0.9995 - val_loss: 6.6638 - val_acc: 0.5154\n",
      "Epoch 43/60\n",
      "128/128 [==============================] - 58s 455ms/step - loss: 0.0081 - acc: 0.9976 - val_loss: 6.3731 - val_acc: 0.5040\n",
      "Epoch 44/60\n",
      "128/128 [==============================] - 58s 455ms/step - loss: 0.0070 - acc: 0.9995 - val_loss: 5.8892 - val_acc: 0.5565\n",
      "Epoch 45/60\n",
      "128/128 [==============================] - 58s 454ms/step - loss: 0.0082 - acc: 0.9980 - val_loss: 6.8285 - val_acc: 0.4987\n",
      "Epoch 46/60\n",
      "128/128 [==============================] - 58s 456ms/step - loss: 0.0160 - acc: 0.9971 - val_loss: 7.4726 - val_acc: 0.4822\n",
      "Epoch 47/60\n",
      "128/128 [==============================] - 58s 455ms/step - loss: 0.0200 - acc: 0.9980 - val_loss: 7.7488 - val_acc: 0.4601\n",
      "Epoch 48/60\n",
      "128/128 [==============================] - 58s 455ms/step - loss: 0.0443 - acc: 0.9966 - val_loss: 4.9954 - val_acc: 0.6200\n",
      "Epoch 49/60\n",
      "128/128 [==============================] - 58s 454ms/step - loss: 0.0321 - acc: 0.9941 - val_loss: 7.2325 - val_acc: 0.4653\n",
      "Epoch 50/60\n",
      "128/128 [==============================] - 58s 455ms/step - loss: 0.0220 - acc: 0.9971 - val_loss: 6.3639 - val_acc: 0.5236\n",
      "Epoch 51/60\n",
      "128/128 [==============================] - 58s 456ms/step - loss: 5.6671e-04 - acc: 0.9995 - val_loss: 6.9266 - val_acc: 0.4876\n",
      "Epoch 52/60\n",
      "128/128 [==============================] - 58s 455ms/step - loss: 0.0036 - acc: 0.9995 - val_loss: 7.5228 - val_acc: 0.4491\n",
      "Epoch 53/60\n",
      "128/128 [==============================] - 58s 455ms/step - loss: 0.0270 - acc: 0.9959 - val_loss: 5.8138 - val_acc: 0.5482\n",
      "Epoch 54/60\n",
      "128/128 [==============================] - 58s 455ms/step - loss: 0.0032 - acc: 0.9990 - val_loss: 6.8319 - val_acc: 0.4878\n",
      "Epoch 55/60\n",
      "128/128 [==============================] - 58s 457ms/step - loss: 0.0149 - acc: 0.9980 - val_loss: 6.0690 - val_acc: 0.5480\n",
      "Epoch 56/60\n",
      "128/128 [==============================] - 58s 452ms/step - loss: 0.0080 - acc: 0.9976 - val_loss: 8.1615 - val_acc: 0.4276\n",
      "Epoch 57/60\n",
      "128/128 [==============================] - 60s 467ms/step - loss: 0.0232 - acc: 0.9971 - val_loss: 7.2410 - val_acc: 0.4651\n",
      "Epoch 58/60\n",
      "128/128 [==============================] - 59s 460ms/step - loss: 0.0240 - acc: 0.9974 - val_loss: 5.6347 - val_acc: 0.5923\n",
      "Epoch 59/60\n",
      "128/128 [==============================] - 59s 459ms/step - loss: 0.0279 - acc: 0.9976 - val_loss: 7.1130 - val_acc: 0.4737\n",
      "Epoch 60/60\n",
      "128/128 [==============================] - 59s 459ms/step - loss: 0.0106 - acc: 0.9985 - val_loss: 6.2422 - val_acc: 0.5427\n"
     ]
    },
    {
     "data": {
      "text/plain": [
       "<keras.callbacks.History at 0x7f49fe90d160>"
      ]
     },
     "execution_count": 7,
     "metadata": {},
     "output_type": "execute_result"
    }
   ],
   "source": [
    "model.fit_generator(\n",
    "        train_generator,\n",
    "        samples_per_epoch=nb_train_samples,\n",
    "        nb_epoch=nb_epoch,\n",
    "        validation_data=validation_generator,\n",
    "        nb_val_samples=nb_validation_samples)"
   ]
  },
  {
   "cell_type": "code",
   "execution_count": 8,
   "metadata": {},
   "outputs": [],
   "source": [
    "model.save_weights('models/basic_cnn_20_epochs.h5')\n"
   ]
  },
  {
   "cell_type": "code",
   "execution_count": 9,
   "metadata": {},
   "outputs": [
    {
     "data": {
      "text/plain": [
       "[6.247082051074854, 0.5423789460689168]"
      ]
     },
     "execution_count": 9,
     "metadata": {},
     "output_type": "execute_result"
    }
   ],
   "source": [
    "model.evaluate_generator(validation_generator, nb_validation_samples)"
   ]
  },
  {
   "cell_type": "code",
   "execution_count": null,
   "metadata": {},
   "outputs": [],
   "source": [
    "#final step\n",
    "img = image.load_img('dog.4.jpg', target_size=(224,224))\n",
    "prediction = model.predict(img)\n",
    "print (prediction) "
   ]
  }
 ],
 "metadata": {
  "kernelspec": {
   "display_name": "Python 3",
   "language": "python",
   "name": "python3"
  },
  "language_info": {
   "codemirror_mode": {
    "name": "ipython",
    "version": 3
   },
   "file_extension": ".py",
   "mimetype": "text/x-python",
   "name": "python",
   "nbconvert_exporter": "python",
   "pygments_lexer": "ipython3",
   "version": "3.6.7"
  }
 },
 "nbformat": 4,
 "nbformat_minor": 2
}
